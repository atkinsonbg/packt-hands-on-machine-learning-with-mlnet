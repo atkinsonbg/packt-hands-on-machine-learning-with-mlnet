{
 "cells": [
  {
   "cell_type": "code",
   "execution_count": 161,
   "metadata": {},
   "outputs": [],
   "source": [
    "import pandas as pd"
   ]
  },
  {
   "cell_type": "code",
   "execution_count": 162,
   "metadata": {},
   "outputs": [
    {
     "name": "stderr",
     "output_type": "stream",
     "text": [
      "<ipython-input-162-327ff1371f6f>:2: ParserWarning: Falling back to the 'python' engine because the 'c' engine does not support regex separators (separators > 1 char and different from '\\s+' are interpreted as regex); you can avoid this warning by specifying engine='python'.\n",
      "  df_bookexamples = pd.read_csv('./Files/book_example_data.csv', sep='\\t+', header=None)\n"
     ]
    },
    {
     "data": {
      "text/plain": [
       "(20, 2)"
      ]
     },
     "execution_count": 162,
     "metadata": {},
     "output_type": "execute_result"
    }
   ],
   "source": [
    "# load book examples and confirm the shape\n",
    "df_bookexamples = pd.read_csv('./Files/book_example_data.csv', sep='\\t+', header=None)\n",
    "df_bookexamples.shape"
   ]
  },
  {
   "cell_type": "code",
   "execution_count": 163,
   "metadata": {},
   "outputs": [
    {
     "data": {
      "text/plain": [
       "<bound method NDFrame.head of     0                                                  1\n",
       "0   0                                      \"Great Pizza\"\n",
       "1   0                         \"Awesome customer service\"\n",
       "2   1                                     \"Dirty floors\"\n",
       "3   1                                   \"Very expensive\"\n",
       "4   0                                \"Toppings are good\"\n",
       "5   1                              \"Parking is terrible\"\n",
       "6   0                              \"Bathrooms are clean\"\n",
       "7   1                          \"Management is unhelpful\"\n",
       "8   0             \"Lighting and atmosphere are romantic\"\n",
       "9   1                                  \"Crust was burnt\"\n",
       "10  0                              \"Pineapple was fresh\"\n",
       "11  1               \"Lack of garlic cloves is upsetting\"\n",
       "12  0                 \"Good experience, would come back\"\n",
       "13  0                                   \"Friendly staff\"\n",
       "14  1                            \"Rude customer service\"\n",
       "15  1                          \"Waiters never came back\"\n",
       "16  1          \"Could not believe the napkins were $10!\"\n",
       "17  0                 \"Supersized Pizza is a great deal\"\n",
       "18  0                  \"$5 all you can eat deal is good\"\n",
       "19  1  \"Overpriced and was shocked that utensils were...>"
      ]
     },
     "execution_count": 163,
     "metadata": {},
     "output_type": "execute_result"
    }
   ],
   "source": [
    "df_bookexamples.head"
   ]
  },
  {
   "cell_type": "code",
   "execution_count": 164,
   "metadata": {},
   "outputs": [
    {
     "data": {
      "text/plain": [
       "(1000, 2)"
      ]
     },
     "execution_count": 164,
     "metadata": {},
     "output_type": "execute_result"
    }
   ],
   "source": [
    "# load amazon examples and confirm the shape\n",
    "df_amazonreviews = pd.read_csv('./Files/amazon_reviews.csv', sep=',', header=None)\n",
    "df_amazonreviews.shape"
   ]
  },
  {
   "cell_type": "code",
   "execution_count": 165,
   "metadata": {},
   "outputs": [
    {
     "data": {
      "text/plain": [
       "<bound method NDFrame.head of      0                                                  1\n",
       "0    0  So there is no way for me to plug it in here i...\n",
       "1    1                        Good case, Excellent value.\n",
       "2    1                             Great for the jawbone.\n",
       "3    0  Tied to charger for conversations lasting more...\n",
       "4    1                                  The mic is great.\n",
       "..  ..                                                ...\n",
       "995  0  The screen does get smudged easily because it ...\n",
       "996  0  What a piece of junk.. I lose more calls on th...\n",
       "997  0                       Item Does Not Match Picture.\n",
       "998  0  The only thing that disappoint me is the infra...\n",
       "999  0  You can not answer calls with the unit, never ...\n",
       "\n",
       "[1000 rows x 2 columns]>"
      ]
     },
     "execution_count": 165,
     "metadata": {},
     "output_type": "execute_result"
    }
   ],
   "source": [
    "df_amazonreviews.head"
   ]
  },
  {
   "cell_type": "code",
   "execution_count": 166,
   "metadata": {},
   "outputs": [
    {
     "name": "stderr",
     "output_type": "stream",
     "text": [
      "<ipython-input-166-e113d6a8fc36>:2: ParserWarning: Falling back to the 'python' engine because the 'c' engine does not support regex separators (separators > 1 char and different from '\\s+' are interpreted as regex); you can avoid this warning by specifying engine='python'.\n",
      "  df_yelpreviews = pd.read_csv('./Files/yelp_labelled.txt', sep='\\t+', header=None)\n"
     ]
    },
    {
     "data": {
      "text/plain": [
       "(1000, 2)"
      ]
     },
     "execution_count": 166,
     "metadata": {},
     "output_type": "execute_result"
    }
   ],
   "source": [
    "# load yelp examples and confirm the shape\n",
    "df_yelpreviews = pd.read_csv('./Files/yelp_labelled.txt', sep='\\t+', header=None)\n",
    "df_yelpreviews = df_yelpreviews[df_yelpreviews.columns[[1,0]]] # reverse order of columns\n",
    "df_yelpreviews = df_yelpreviews.T.reset_index(drop=True).T # reindex for the column indexes match the other dfs\n",
    "df_yelpreviews.shape"
   ]
  },
  {
   "cell_type": "code",
   "execution_count": 167,
   "metadata": {},
   "outputs": [
    {
     "data": {
      "text/plain": [
       "<bound method NDFrame.head of      0                                                  1\n",
       "0    1                           Wow... Loved this place.\n",
       "1    0                                 Crust is not good.\n",
       "2    0          Not tasty and the texture was just nasty.\n",
       "3    1  Stopped by during the late May bank holiday of...\n",
       "4    1  The selection on the menu was great and so wer...\n",
       "..  ..                                                ...\n",
       "995  0  I think food should have flavor and texture an...\n",
       "996  0                           Appetite instantly gone.\n",
       "997  0  Overall I was not impressed and would not go b...\n",
       "998  0  The whole experience was underwhelming, and I ...\n",
       "999  0  Then, as if I hadn't wasted enough of my life ...\n",
       "\n",
       "[1000 rows x 2 columns]>"
      ]
     },
     "execution_count": 167,
     "metadata": {},
     "output_type": "execute_result"
    }
   ],
   "source": [
    "df_yelpreviews.head"
   ]
  },
  {
   "cell_type": "code",
   "execution_count": 168,
   "metadata": {},
   "outputs": [
    {
     "name": "stderr",
     "output_type": "stream",
     "text": [
      "<ipython-input-168-f611748eedd1>:2: ParserWarning: Falling back to the 'python' engine because the 'c' engine does not support regex separators (separators > 1 char and different from '\\s+' are interpreted as regex); you can avoid this warning by specifying engine='python'.\n",
      "  df_imdbreviews = pd.read_csv('./Files/imdb_labelled.txt', sep='\\t+', header=None)\n"
     ]
    },
    {
     "data": {
      "text/plain": [
       "(1000, 2)"
      ]
     },
     "execution_count": 168,
     "metadata": {},
     "output_type": "execute_result"
    }
   ],
   "source": [
    "# load imdb examples and confirm the shape\n",
    "df_imdbreviews = pd.read_csv('./Files/imdb_labelled.txt', sep='\\t+', header=None)\n",
    "df_imdbreviews = df_imdbreviews[df_imdbreviews.columns[[1,0]]] # reverse order of columns\n",
    "df_imdbreviews = df_imdbreviews.T.reset_index(drop=True).T # reindex for the column indexes match the other dfs\n",
    "df_imdbreviews.shape"
   ]
  },
  {
   "cell_type": "code",
   "execution_count": 169,
   "metadata": {},
   "outputs": [
    {
     "data": {
      "text/plain": [
       "<bound method NDFrame.head of      0                                                  1\n",
       "0    0  A very, very, very slow-moving, aimless movie ...\n",
       "1    0  Not sure who was more lost - the flat characte...\n",
       "2    0  Attempting artiness with black & white and cle...\n",
       "3    0       Very little music or anything to speak of.  \n",
       "4    1  The best scene in the movie was when Gerardo i...\n",
       "..  ..                                                ...\n",
       "995  0  I just got bored watching Jessice Lange take h...\n",
       "996  0  Unfortunately, any virtue in this film's produ...\n",
       "997  0                   In a word, it is embarrassing.  \n",
       "998  0                               Exceptionally bad!  \n",
       "999  0  All in all its an insult to one's intelligence...\n",
       "\n",
       "[1000 rows x 2 columns]>"
      ]
     },
     "execution_count": 169,
     "metadata": {},
     "output_type": "execute_result"
    }
   ],
   "source": [
    "df_imdbreviews.head"
   ]
  },
  {
   "cell_type": "code",
   "execution_count": 170,
   "metadata": {},
   "outputs": [
    {
     "data": {
      "text/plain": [
       "(3020, 2)"
      ]
     },
     "execution_count": 170,
     "metadata": {},
     "output_type": "execute_result"
    }
   ],
   "source": [
    "df_all = pd.concat([df_bookexamples,df_amazonreviews, df_yelpreviews, df_imdbreviews])\n",
    "df_all = df_all.replace('\"', '', regex=True)\n",
    "df_all.shape"
   ]
  },
  {
   "cell_type": "code",
   "execution_count": 171,
   "metadata": {},
   "outputs": [
    {
     "data": {
      "text/plain": [
       "<bound method NDFrame.head of      0                                                  1\n",
       "0    0                                        Great Pizza\n",
       "1    0                           Awesome customer service\n",
       "2    1                                       Dirty floors\n",
       "3    1                                     Very expensive\n",
       "4    0                                  Toppings are good\n",
       "..  ..                                                ...\n",
       "995  0  I just got bored watching Jessice Lange take h...\n",
       "996  0  Unfortunately, any virtue in this film's produ...\n",
       "997  0                   In a word, it is embarrassing.  \n",
       "998  0                               Exceptionally bad!  \n",
       "999  0  All in all its an insult to one's intelligence...\n",
       "\n",
       "[3020 rows x 2 columns]>"
      ]
     },
     "execution_count": 171,
     "metadata": {},
     "output_type": "execute_result"
    }
   ],
   "source": [
    "df_all.head"
   ]
  },
  {
   "cell_type": "code",
   "execution_count": 172,
   "metadata": {},
   "outputs": [],
   "source": [
    "df_all.to_csv(\"all_data.csv\", sep='\\t', index=False, header=False)"
   ]
  }
 ],
 "metadata": {
  "interpreter": {
   "hash": "40d3a090f54c6569ab1632332b64b2c03c39dcf918b08424e98f38b5ae0af88f"
  },
  "kernelspec": {
   "display_name": "Python 3.8.8 64-bit ('base': conda)",
   "name": "python3"
  },
  "language_info": {
   "codemirror_mode": {
    "name": "ipython",
    "version": 3
   },
   "file_extension": ".py",
   "mimetype": "text/x-python",
   "name": "python",
   "nbconvert_exporter": "python",
   "pygments_lexer": "ipython3",
   "version": "3.8.8"
  },
  "orig_nbformat": 4
 },
 "nbformat": 4,
 "nbformat_minor": 2
}
